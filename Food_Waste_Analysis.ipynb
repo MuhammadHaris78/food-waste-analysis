{
  "nbformat": 4,
  "nbformat_minor": 0,
  "metadata": {
    "colab": {
      "provenance": [],
      "mount_file_id": "17TXM8USdDqTDCw1Oi0MR1ywfMHe_EUUT",
      "authorship_tag": "ABX9TyNgFN0/LhUeFn2hDZc0PVjC",
      "include_colab_link": true
    },
    "kernelspec": {
      "name": "python3",
      "display_name": "Python 3"
    },
    "language_info": {
      "name": "python"
    }
  },
  "cells": [
    {
      "cell_type": "markdown",
      "metadata": {
        "id": "view-in-github",
        "colab_type": "text"
      },
      "source": [
        "<a href=\"https://colab.research.google.com/github/MuhammadHaris78/food-waste-analysis/blob/main/Food_Waste_Analysis.ipynb\" target=\"_parent\"><img src=\"https://colab.research.google.com/assets/colab-badge.svg\" alt=\"Open In Colab\"/></a>"
      ]
    },
    {
      "cell_type": "markdown",
      "source": [
        "**Objective:**\n",
        "\n",
        "The objective of this Project is to analyze a food service dataset to gain insights into operational efficiency and food waste management. The dataset consists of variables such as the number of meals served, kitchen sta, environmental conditions (temperature and humidity), and food waste. Our goal is to explore this data, clean it, visualize key patterns, and derive actionable insights to optimize operations."
      ],
      "metadata": {
        "id": "ImJscruAI6uo"
      }
    },
    {
      "cell_type": "markdown",
      "source": [
        "# **1. Uploading the food data dataframe.**\n"
      ],
      "metadata": {
        "id": "USMC8RZYxbKA"
      }
    },
    {
      "cell_type": "code",
      "execution_count": null,
      "metadata": {
        "id": "j-2crNO7IlPB"
      },
      "outputs": [],
      "source": [
        "# Importing the libraries\n",
        "import pandas as pd\n",
        "import matplotlib.pyplot as plt\n",
        "import seaborn as sns\n",
        "\n",
        "# Uploading the dataframe\n",
        "df = pd.read_csv(\"/content/drive/MyDrive/Classroom/Food data.csv\")\n",
        "display(df.head())\n",
        "print(df.shape)"
      ]
    },
    {
      "cell_type": "markdown",
      "source": [
        "# **2. Data Cleaning**"
      ],
      "metadata": {
        "id": "4k3HdEz9LmU4"
      }
    },
    {
      "cell_type": "code",
      "source": [
        "# Dropping the 'ID' column as date is the unique identifier.\n",
        "df.drop(columns=['ID'], inplace=True)\n",
        "df.head(5)"
      ],
      "metadata": {
        "id": "32WswPRhzl6Y"
      },
      "execution_count": null,
      "outputs": []
    },
    {
      "cell_type": "code",
      "source": [
        "# Finding the duplicate rows.\n",
        "df.duplicated().sum()"
      ],
      "metadata": {
        "id": "SU0QiM7Vz4TA"
      },
      "execution_count": null,
      "outputs": []
    },
    {
      "cell_type": "code",
      "source": [
        "# Removing the duplicate rows.\n",
        "df.drop_duplicates()"
      ],
      "metadata": {
        "collapsed": true,
        "id": "jSRL2_mm0K7G"
      },
      "execution_count": null,
      "outputs": []
    },
    {
      "cell_type": "code",
      "source": [
        "# Cheking for the missing values and their percentage in each column.\n",
        "print(\"Missing values in each column:\\n\",df.isnull().sum())\n",
        "print(\"-------------------\")\n",
        "missing_values = df.isnull().sum()\n",
        "missing_percentage = (missing_values/len(df))*100\n",
        "print(\"Missing Values Percenatge:\\n\",missing_percentage)"
      ],
      "metadata": {
        "id": "53D1a9vN0geC"
      },
      "execution_count": null,
      "outputs": []
    },
    {
      "cell_type": "code",
      "source": [
        "# Checking the categorial columns and handling their missing values.\n",
        "for col in df:\n",
        "  print(f\"\\nColumn {col}: \")\n",
        "  print(df[col].nunique())\n",
        "  print(df[col].value_counts())\n",
        "  print(\"---------------------------------\")"
      ],
      "metadata": {
        "id": "bV_iS42klNJI"
      },
      "execution_count": null,
      "outputs": []
    },
    {
      "cell_type": "code",
      "source": [
        "# Replacing non-numeric entries with numeric.\n",
        "\n",
        "# Changing dtype of 'kitchen_staff' into str to make 'ten' and 'eleven' count\n",
        "# and then converting it into numeric integers.\n",
        "df['kitchen_staff']=df['kitchen_staff'].astype(str).str.strip().replace({'ten':'10','eleven':'11'})\n",
        "df['kitchen_staff'] = pd.to_numeric(df['kitchen_staff'], errors='coerce').astype('Int64')\n",
        "print(df['kitchen_staff'].value_counts())\n",
        "print(\"-------------------------------------------\")\n",
        "\n",
        "# The 'special_event' doesn't have any missing values so it can be directly\n",
        "# converted back into int.\n",
        "df['special_event'] =df['special_event'].astype(str).str.strip().replace({'One':1}).astype(int)\n",
        "print(df['special_event'].value_counts())\n",
        "print(\"-------------------------------------------\")\n",
        "\n",
        "# Capitalizing the first letter each category in 'staff_experience' to make\n",
        "# 'intermediate' as one.\n",
        "df['staff_experience']=df['staff_experience'].str.capitalize()\n",
        "print(df['staff_experience'].value_counts())\n",
        "print(\"-------------------------------------------\")\n",
        "\n",
        "# Lowering the each category in 'waste_category' to make similar cat as one.\n",
        "df['waste_category']=df['waste_category'].str.lower()\n",
        "print(df['waste_category'].value_counts())\n",
        "print(\"-------------------------------------------\")\n",
        "# Checking the changed data types.\n",
        "print(df.dtypes)"
      ],
      "metadata": {
        "id": "xiy2SYP6l5US"
      },
      "execution_count": null,
      "outputs": []
    },
    {
      "cell_type": "code",
      "source": [
        "# Imputing the missing values in categorical columns with mode.\n",
        "miss_val_categ_columns = [\"kitchen_staff\",\"staff_experience\",\"waste_category\"]\n",
        "for col in miss_val_categ_columns:\n",
        "  df[col].fillna(df[col].mode()[0],inplace=True)"
      ],
      "metadata": {
        "id": "cif6e7ujmu_j"
      },
      "execution_count": null,
      "outputs": []
    },
    {
      "cell_type": "code",
      "source": [
        "# For numerical columns we will first make histograms to check the distribution\n",
        "# of the data.\n",
        "plt.figure(figsize=(15,10))\n",
        "miss_val_num_columns = [\"humidity_percent\",\"past_waste_kg\",\"meals_served\"]\n",
        "for i,col in enumerate(miss_val_num_columns):\n",
        "  plt.subplot(3,3,i+1)\n",
        "  sns.histplot(df[col],kde=True)\n",
        "  plt.title(f\"Disribution of {col}\")\n",
        "plt.tight_layout()\n",
        "plt.show()"
      ],
      "metadata": {
        "id": "0hgPGo9RmEjT"
      },
      "execution_count": null,
      "outputs": []
    },
    {
      "cell_type": "code",
      "source": [
        "# From the above histograms the 'humidity_percent' and 'past_waste_kg' are\n",
        "# almost normally disribted while 'meals_served' is skewed, so we will impute\n",
        "# the above two columns with mean and 'meals_served' with median.\n",
        "numerical_cols_mean = ['humidity_percent', 'past_waste_kg']\n",
        "for col in numerical_cols_mean:\n",
        "    df[col].fillna(df[col].mean(), inplace=True)\n",
        "\n",
        "df['meals_served'].fillna(df['meals_served'].median(), inplace=True)"
      ],
      "metadata": {
        "id": "e9hpnZDjnmGB"
      },
      "execution_count": null,
      "outputs": []
    },
    {
      "cell_type": "code",
      "source": [
        "# Changing the date format.\n",
        "df['date']=pd.to_datetime(df['date'], errors='coerce')"
      ],
      "metadata": {
        "id": "5scYuhCJnuzR"
      },
      "execution_count": null,
      "outputs": []
    },
    {
      "cell_type": "markdown",
      "source": [
        "# **3**. **Summary Statistics of the continuous columns and handling outliers.**"
      ],
      "metadata": {
        "id": "zPlIatrdoAgl"
      }
    },
    {
      "cell_type": "code",
      "source": [
        "numerical_cont_columns = ['meals_served','temperature_C','humidity_percent','past_waste_kg']\n",
        "df[numerical_cont_columns].describe()"
      ],
      "metadata": {
        "id": "W5rzIUEOn1g0"
      },
      "execution_count": null,
      "outputs": []
    },
    {
      "cell_type": "code",
      "source": [
        "# Handling Outliers\n",
        "\n",
        "# Boxplot of the of the numeric continuous columns to check the\n",
        "# outliers.\n",
        "plt.figure(figsize=(15,5))\n",
        "for i,col in enumerate(numerical_cont_columns):\n",
        "  plt.subplot(2,2,i+1)\n",
        "  sns.boxplot(y=df[col])\n",
        "  plt.title(f'Boxplot of {col}')\n",
        "plt.tight_layout()\n",
        "plt.show()"
      ],
      "metadata": {
        "id": "q3OSGrwBpgtD"
      },
      "execution_count": null,
      "outputs": []
    },
    {
      "cell_type": "code",
      "source": [
        "# From the above plots we can see there are outliers in some columns, so we will\n",
        "# first confirm the outliers with the iqr method.\n",
        "for col in numerical_cont_columns:\n",
        "  Q1 = df[col].quantile(0.25)\n",
        "  Q3 = df[col].quantile(0.75)\n",
        "  IQR = Q3-Q1\n",
        "  lower_bound = Q1-1.5*IQR\n",
        "  upper_bound = Q3+1.5*IQR\n",
        "  outliers = df[(df[col]<lower_bound)|(df[col]>upper_bound)]\n",
        "  print(f'\\nThe number of outliers in {col} are {len(outliers)}')\n",
        "  display(outliers[col].head(3))"
      ],
      "metadata": {
        "id": "9V9DJR6kADkK"
      },
      "execution_count": null,
      "outputs": []
    },
    {
      "cell_type": "code",
      "source": [
        "# Now we will Cap the outliers with the lower_bound and upper_bound values.\n",
        "for col in numerical_cont_columns:\n",
        "  Q1 = df[col].quantile(0.25)\n",
        "  Q3 = df[col].quantile(0.75)\n",
        "  IQR = Q3-Q1\n",
        "  lower_bound = Q1-1.5*IQR\n",
        "  upper_bound = Q3+1.5*IQR\n",
        "  df[col] = df[col].clip(upper=upper_bound,lower=lower_bound)"
      ],
      "metadata": {
        "id": "P9TNbYHWBNG0"
      },
      "execution_count": null,
      "outputs": []
    },
    {
      "cell_type": "markdown",
      "source": [
        "# **4. Visualizing Distribution.**"
      ],
      "metadata": {
        "id": "9Mt8SrV0-IdW"
      }
    },
    {
      "cell_type": "code",
      "source": [
        "# Histograms and Boxplots to visualiza the numeric columns.\n",
        "plt.figure(figsize=(15,10))\n",
        "for i,col in enumerate(numerical_cont_columns):\n",
        "  plt.subplot(4,4,2*i+1)\n",
        "  sns.histplot(df[col],kde=True)\n",
        "  plt.title(f'Histogram of {col}')\n",
        "  plt.subplot(4,4,2*i+2)\n",
        "  sns.boxplot(y=df[col],color='orange')\n",
        "  plt.title(f'Boxplot of {col}')\n",
        "plt.tight_layout()\n",
        "plt.show()"
      ],
      "metadata": {
        "id": "PGdtrlkO4qQg"
      },
      "execution_count": null,
      "outputs": []
    },
    {
      "cell_type": "code",
      "source": [
        "# Countplots to visualize categorical columns.\n",
        "cat_columns = ['kitchen_staff','day_of_week','special_event','staff_experience','waste_category']\n",
        "plt.figure(figsize=(15,10))\n",
        "for i, col in enumerate(cat_columns):\n",
        "  plt.subplot(3,3,i+1)\n",
        "  sns.countplot(x=df[col])\n",
        "  plt.title(f'Countplot of {col}')\n",
        "  plt.xticks(rotation=45)\n",
        "plt.tight_layout()\n",
        "plt.show()"
      ],
      "metadata": {
        "id": "3g0ZGMO4BqZG"
      },
      "execution_count": null,
      "outputs": []
    },
    {
      "cell_type": "code",
      "source": [
        "# Correlation Analysis of the numeric columns.\n",
        "df.corr(numeric_only=True)"
      ],
      "metadata": {
        "id": "nE2qunFmBvXQ"
      },
      "execution_count": null,
      "outputs": []
    },
    {
      "cell_type": "code",
      "source": [
        "# Heatmap of the correlation matrix\n",
        "plt.figure(figsize=(14,8))\n",
        "sns.heatmap(df.corr(numeric_only=True),annot=True,cmap='coolwarm')\n",
        "plt.title(f'Correlation Heatmap')\n",
        "plt.show()# Correlation Analysis of the numeric columns."
      ],
      "metadata": {
        "id": "Pr3KrnvBBzCK"
      },
      "execution_count": null,
      "outputs": []
    },
    {
      "cell_type": "code",
      "source": [
        "# Barplot for comparing food waste across waste_category and staff_experience.\n",
        "cat_features = ['waste_category','staff_experience']\n",
        "plt.figure(figsize=(15,5))\n",
        "for i,col in enumerate(cat_features):\n",
        "  plt.subplot(1,2,i+1)\n",
        "  sns.barplot(x=df[col], y=df['past_waste_kg'])\n",
        "  plt.title(f'Food waste by {col}')\n",
        "plt.tight_layout()\n",
        "plt.show()"
      ],
      "metadata": {
        "id": "NcPjxmc-C_xH"
      },
      "execution_count": null,
      "outputs": []
    },
    {
      "cell_type": "markdown",
      "source": [
        "# **5. Key Insights and Recommendations**"
      ],
      "metadata": {
        "id": "26GWKwLTCA3c"
      }
    },
    {
      "cell_type": "code",
      "source": [
        "# Staffing optimization.\n",
        "plt.figure(figsize=(15,5))\n",
        "sns.barplot(x=df['kitchen_staff'],y=df['past_waste_kg'])\n",
        "plt.title(f\"Barplot of kitchen_staff vs. past_waste_kg\")\n",
        "plt.show()"
      ],
      "metadata": {
        "id": "OaYZFrUBCKJn"
      },
      "execution_count": null,
      "outputs": []
    },
    {
      "cell_type": "code",
      "source": [
        "# Environmental factors.\n",
        "env_factors = ['temperature_C','humidity_percent']\n",
        "plt.figure(figsize=(15,5))\n",
        "for i,col in enumerate(env_factors):\n",
        "  plt.subplot(1,2,i+1)\n",
        "  sns.scatterplot(x=df[col],y=df['past_waste_kg'])\n",
        "  plt.title(f'Food waste vs. {col}')\n",
        "plt.tight_layout()\n",
        "plt.show()"
      ],
      "metadata": {
        "id": "gxV4T7YTCnKx"
      },
      "execution_count": null,
      "outputs": []
    },
    {
      "cell_type": "code",
      "source": [
        "# Event Management\n",
        "plt.figure(figsize=(5,5))\n",
        "sns.barplot(x=df['special_event'],y=df['past_waste_kg'])\n",
        "plt.title(f'Food waste vs. special events')\n",
        "plt.show()"
      ],
      "metadata": {
        "id": "SVe3htWKCp4V"
      },
      "execution_count": null,
      "outputs": []
    }
  ]
}